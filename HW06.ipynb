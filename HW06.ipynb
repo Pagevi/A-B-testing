{
 "cells": [
  {
   "cell_type": "code",
   "execution_count": 3,
   "id": "02842003",
   "metadata": {},
   "outputs": [],
   "source": [
    "from statsmodels.stats.power import tt_ind_solve_power, zt_ind_solve_power\n",
    "from statsmodels.stats.proportion import proportion_effectsize\n",
    "from statsmodels.stats.meta_analysis import effectsize_smd\n",
    "from typing import Union"
   ]
  },
  {
   "cell_type": "code",
   "execution_count": 5,
   "id": "097dfd9b",
   "metadata": {},
   "outputs": [],
   "source": [
    "#Расчёт effect_size для пропорций\n",
    "def calc_propotion_effect_size(conv_1: int, nobs_1: int, conv_2: int, nobs_2: int):\n",
    "    prob_1, prob_2 = conv_1 / nobs_1, conv_2 / nobs_2\n",
    "    es_import = proportion_effectsize(prob_1, prob_2)\n",
    "    \n",
    "    return es_import\n",
    "\n",
    "#Расчёт effect_size для непрерывных метрик\n",
    "def calc_continuous_effect_size(mean_1: Union[float, int],\n",
    "                                std_1: Union[float, int],\n",
    "                                mean_2: Union[float, int],\n",
    "                                std_2: Union[float, int],\n",
    "                                nobs_1: int = 10_000,\n",
    "                                nobs_2: int = 10_000):\n",
    "    \n",
    "    es_import = effectsize_smd(mean_1, std_1, nobs_1, mean_2, std_2, nobs_2)[0]\n",
    "    \n",
    "    return es_import "
   ]
  },
  {
   "cell_type": "code",
   "execution_count": 6,
   "id": "de7d8079",
   "metadata": {},
   "outputs": [],
   "source": [
    "#Расчёт минимально необходимой выборки * 2(для теста и контроля) для пропорций\n",
    "def calc_sample_size_proportion(effect_size: float,\n",
    "                                alpha: float = .05,\n",
    "                                beta: float = .2,\n",
    "                                ratio: Union[float, int] = 1):\n",
    "    \n",
    "    n = zt_ind_solve_power(effect_size=effect_size,\n",
    "                           alpha=alpha,\n",
    "                           power=(1 - beta),\n",
    "                           ratio=ratio,\n",
    "                  )\n",
    "    return int(n * 2)\n",
    "#Расчёт минимально необходимой выборки * 2(для теста и контроля) для непрерывной метрики\n",
    "def calc_sample_size_continuous(effect_size: float,\n",
    "                                alpha: float = .05,\n",
    "                                beta: float = .2,\n",
    "                                ratio: Union[float, int] = 1):\n",
    "    \n",
    "    n = tt_ind_solve_power(effect_size=effect_size,\n",
    "                           alpha=alpha,\n",
    "                           power=(1 - beta),\n",
    "                           ratio=ratio,\n",
    "                  )\n",
    "    return int(n * 2)"
   ]
  },
  {
   "cell_type": "markdown",
   "id": "87f03ed1",
   "metadata": {},
   "source": [
    "Задание №1\n",
    "\n",
    "Продакт на главной mail.ru решил протестировать в рекомендательной ленте контента вместо карточек со статьями видеоплеер с короткими видео. Нынешний таймспент на юзера в день в среднем равен 25 минут, а стандартная ошибка (SD) равна 156. Мы предполагаем, что в новой версии таймспент на юзера в день изменится на 10%. Средний трафик 20000 человек в день. Посчитайте сколько дней необходимо держать эксперимент при alpha = 5% и beta = 20%"
   ]
  },
  {
   "cell_type": "code",
   "execution_count": 7,
   "id": "99d2fd08",
   "metadata": {},
   "outputs": [
    {
     "data": {
      "text/plain": [
       "-0.016025039996486808"
      ]
     },
     "execution_count": 7,
     "metadata": {},
     "output_type": "execute_result"
    }
   ],
   "source": [
    "mu_control, mu_test = 25, 25*1.1\n",
    "std_control, std_test = 156, 156\n",
    "\n",
    "calc_continuous_effect_size(mean_1=mu_control, std_1=std_control, mean_2=mu_test, std_2=std_test)"
   ]
  },
  {
   "cell_type": "code",
   "execution_count": 8,
   "id": "3eaf44fd",
   "metadata": {},
   "outputs": [
    {
     "data": {
      "text/plain": [
       "122257"
      ]
     },
     "execution_count": 8,
     "metadata": {},
     "output_type": "execute_result"
    }
   ],
   "source": [
    "effect_size = calc_continuous_effect_size(mean_1=mu_control, std_1=std_control, mean_2=mu_test, std_2=std_test)\n",
    "group=calc_sample_size_continuous(effect_size=effect_size, alpha=.05, beta=.2)\n",
    "group"
   ]
  },
  {
   "cell_type": "code",
   "execution_count": 9,
   "id": "a23a3f90",
   "metadata": {},
   "outputs": [
    {
     "data": {
      "text/plain": [
       "6.11285"
      ]
     },
     "execution_count": 9,
     "metadata": {},
     "output_type": "execute_result"
    }
   ],
   "source": [
    "group/20000"
   ]
  },
  {
   "cell_type": "markdown",
   "id": "0efb1664",
   "metadata": {},
   "source": [
    "7 дней необходимо для эксперимента"
   ]
  },
  {
   "cell_type": "markdown",
   "id": "8f1b68c2",
   "metadata": {},
   "source": [
    "Задание №2\n",
    "\n",
    "Наша продуктовая команда в ecommerce магазине планирует запустить тест, направленный на ускорение загрузки сайта. Одна из основных метрик bounce rate в GA = 40%. Мы предполагаем, что при оптимизации сайта она изменится минимум на 20%.Средний трафик 4000 человек в день. Посчитайте сколько нам нужно дней держать эксперимент при alpha = 5% и beta = 20%"
   ]
  },
  {
   "cell_type": "code",
   "execution_count": 10,
   "id": "896b8dce",
   "metadata": {},
   "outputs": [
    {
     "name": "stdout",
     "output_type": "stream",
     "text": [
      "0.06756756756756757 0.05405405405405406\n"
     ]
    },
    {
     "data": {
      "text/plain": [
       "0.05663024817640083"
      ]
     },
     "execution_count": 10,
     "metadata": {},
     "output_type": "execute_result"
    }
   ],
   "source": [
    "conv_1, conv_2 = 40, 32\n",
    "nobs_1, nobs_2 = 592, 592\n",
    "prob_1, prob_2 = conv_1 / nobs_1, conv_2 / nobs_2\n",
    "print(prob_1, prob_2)\n",
    "calc_propotion_effect_size(conv_1=conv_1, nobs_1=nobs_1, conv_2=conv_2, nobs_2=nobs_2)"
   ]
  },
  {
   "cell_type": "code",
   "execution_count": 11,
   "id": "6d781320",
   "metadata": {},
   "outputs": [
    {
     "data": {
      "text/plain": [
       "9789"
      ]
     },
     "execution_count": 11,
     "metadata": {},
     "output_type": "execute_result"
    }
   ],
   "source": [
    "effect_size = calc_propotion_effect_size(conv_1=conv_1, nobs_1=nobs_1, conv_2=conv_2, nobs_2=nobs_2)\n",
    "group=calc_sample_size_proportion(effect_size=effect_size, alpha=.05, beta=.2)\n",
    "group"
   ]
  },
  {
   "cell_type": "code",
   "execution_count": 12,
   "id": "7428bd77",
   "metadata": {},
   "outputs": [
    {
     "data": {
      "text/plain": [
       "2.44725"
      ]
     },
     "execution_count": 12,
     "metadata": {},
     "output_type": "execute_result"
    }
   ],
   "source": [
    "group/4000"
   ]
  },
  {
   "cell_type": "markdown",
   "id": "daf28d74",
   "metadata": {},
   "source": [
    "3 дня необходимо для эксперимента"
   ]
  }
 ],
 "metadata": {
  "kernelspec": {
   "display_name": "Python 3 (ipykernel)",
   "language": "python",
   "name": "python3"
  },
  "language_info": {
   "codemirror_mode": {
    "name": "ipython",
    "version": 3
   },
   "file_extension": ".py",
   "mimetype": "text/x-python",
   "name": "python",
   "nbconvert_exporter": "python",
   "pygments_lexer": "ipython3",
   "version": "3.9.13"
  }
 },
 "nbformat": 4,
 "nbformat_minor": 5
}
